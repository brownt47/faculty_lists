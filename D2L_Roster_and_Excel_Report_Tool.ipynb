{
  "nbformat": 4,
  "nbformat_minor": 0,
  "metadata": {
    "kernelspec": {
      "display_name": "Python 3",
      "language": "python",
      "name": "python3"
    },
    "language_info": {
      "codemirror_mode": {
        "name": "ipython",
        "version": 3
      },
      "file_extension": ".py",
      "mimetype": "text/x-python",
      "name": "python",
      "nbconvert_exporter": "python",
      "pygments_lexer": "ipython3",
      "version": "3.7.4"
    },
    "colab": {
      "provenance": []
    }
  },
  "cells": [
    {
      "cell_type": "markdown",
      "source": [
        "# 📋 **Faculty Contact & Assignment Report Generator**\n",
        "\n",
        "### This notebook automates the creation of two key deliverables from a semester course schedule:\n",
        "*   A structured Excel report listing faculty teaching assignments by subject, section, and campus—along with their emails.\n",
        "*   D2L-compatible text rosters (TXT files) for each course, listing faculty usernames for bulk upload into course templates.\n",
        "\n",
        "##  Designed for use in Google Colab or Jupyter."
      ],
      "metadata": {
        "id": "iwHR2FyyrR3T"
      }
    },
    {
      "cell_type": "markdown",
      "source": [
        "## 📦 Step 1: Import Required Libraries"
      ],
      "metadata": {
        "id": "RLyEQljmsw7a"
      }
    },
    {
      "cell_type": "code",
      "source": [
        "pip install xlsxwriter"
      ],
      "metadata": {
        "colab": {
          "base_uri": "https://localhost:8080/"
        },
        "id": "vFjApSHS-5E1",
        "outputId": "c97295f3-287f-4f71-b162-a84976dd908b"
      },
      "execution_count": 133,
      "outputs": [
        {
          "output_type": "stream",
          "name": "stdout",
          "text": [
            "Requirement already satisfied: xlsxwriter in /usr/local/lib/python3.11/dist-packages (3.2.3)\n"
          ]
        }
      ]
    },
    {
      "cell_type": "code",
      "metadata": {
        "id": "4anRCyJcx8so"
      },
      "source": [
        "import pandas as pd\n",
        "import numpy as np\n",
        "import os\n",
        "import xlsxwriter\n",
        "from datetime import datetime\n",
        "from pytz import timezone\n",
        "from google.colab import files, drive\n",
        "import csv"
      ],
      "execution_count": 134,
      "outputs": []
    },
    {
      "cell_type": "code",
      "source": [
        "# Define known campus codes and their full names for context or future merging\n",
        "campuses = ['PA','PE','PS','PC','PN', 'PF']\n",
        "campuses_dict = {\n",
        "    'PA': \"Alpharetta\",\n",
        "    'PF': \"Online\",\n",
        "    'PS': \"Decatur\",\n",
        "    'PC': \"Clarkston\",\n",
        "    'PE': \"Newton\",\n",
        "    'PN': \"Dunwoody\"\n",
        "\n",
        "}"
      ],
      "metadata": {
        "id": "JOnHh6rUvQGx"
      },
      "execution_count": 135,
      "outputs": []
    },
    {
      "cell_type": "markdown",
      "metadata": {
        "id": "M3HLyfIN248U"
      },
      "source": [
        "## 📁 Step 2: Upload Semester Schedule CSV and Faculty Email List\n",
        "*   If files are not already uploaded in the session, prompt for upload."
      ]
    },
    {
      "cell_type": "code",
      "source": [
        "USE_GITHUB = True  # Set to False if uploading manually\n",
        "\n",
        "if USE_GITHUB:\n",
        "    schedule_url = \"https://raw.githubusercontent.com/brownt47/faculty_lists/main/sample_data/CSV_Class_Schedule_By_Department_Sample.csv\"\n",
        "    email_url = \"https://raw.githubusercontent.com/brownt47/faculty_lists/main/sample_data/Faculty_Emails_Example.csv\"\n",
        "    schedule_df = pd.read_csv(schedule_url)\n",
        "    email_df = pd.read_csv(email_url)\n",
        "else:\n",
        "    from google.colab import files\n",
        "    uploaded = files.upload()\n",
        "    schedule_file = list(uploaded.keys())[0]\n",
        "    schedule_df = pd.read_csv(schedule_file)\n"
      ],
      "metadata": {
        "id": "ypR1fIEsOHKd"
      },
      "execution_count": 136,
      "outputs": []
    },
    {
      "cell_type": "markdown",
      "source": [
        "## 🔍 Step 3: Preview the Uploaded Data"
      ],
      "metadata": {
        "id": "lclyZjo_t2Y5"
      }
    },
    {
      "cell_type": "code",
      "source": [
        "schedule_df.head(3)"
      ],
      "metadata": {
        "colab": {
          "base_uri": "https://localhost:8080/",
          "height": 173
        },
        "id": "HE2Wk3DbNd5R",
        "outputId": "0fe88ed5-0b86-4e99-f738-69ce709e08a1"
      },
      "execution_count": 137,
      "outputs": [
        {
          "output_type": "execute_result",
          "data": {
            "text/plain": [
              "     TERM COLL    CRN  DEPT  SAPR XLST  PTRM Subj_Crsnumb  \\\n",
              "0  202505   PC  51722    12   NaN  NaN     7    MATH 0999   \n",
              "1  202505   PC  53481    12   NaN  NaN     7    MATH 0999   \n",
              "2  202505   PC  53358    12   NaN  NaN     7    MATH 1111   \n",
              "\n",
              "                    CRSE_TITLE  SEQ_NUMB  ... SEC SSBSECT_VOICE_AVAIL  \\\n",
              "0  SUPPORT FOR COLLEGE ALGEBRA        16  ...   A                   Y   \n",
              "1  SUPPORT FOR COLLEGE ALGEBRA        20  ...   A                   Y   \n",
              "2              COLLEGE ALGEBRA        30  ...   A                   Y   \n",
              "\n",
              "  WL_LIMIT WL_ENRL RSRV_IND  RESV_LIMIT  RESV_ENRL  NRESV_LIMIT NRESV_ENRL  \\\n",
              "0        0       0      NaN         NaN        NaN          NaN        NaN   \n",
              "1        0       0      NaN         NaN        NaN          NaN        NaN   \n",
              "2        0       0      NaN         NaN        NaN          NaN        NaN   \n",
              "\n",
              "   RESV_LIST  \n",
              "0        NaN  \n",
              "1        NaN  \n",
              "2        NaN  \n",
              "\n",
              "[3 rows x 45 columns]"
            ],
            "text/html": [
              "\n",
              "  <div id=\"df-d8f48b6c-ffae-4b81-845e-ce87e4a9cece\" class=\"colab-df-container\">\n",
              "    <div>\n",
              "<style scoped>\n",
              "    .dataframe tbody tr th:only-of-type {\n",
              "        vertical-align: middle;\n",
              "    }\n",
              "\n",
              "    .dataframe tbody tr th {\n",
              "        vertical-align: top;\n",
              "    }\n",
              "\n",
              "    .dataframe thead th {\n",
              "        text-align: right;\n",
              "    }\n",
              "</style>\n",
              "<table border=\"1\" class=\"dataframe\">\n",
              "  <thead>\n",
              "    <tr style=\"text-align: right;\">\n",
              "      <th></th>\n",
              "      <th>TERM</th>\n",
              "      <th>COLL</th>\n",
              "      <th>CRN</th>\n",
              "      <th>DEPT</th>\n",
              "      <th>SAPR</th>\n",
              "      <th>XLST</th>\n",
              "      <th>PTRM</th>\n",
              "      <th>Subj_Crsnumb</th>\n",
              "      <th>CRSE_TITLE</th>\n",
              "      <th>SEQ_NUMB</th>\n",
              "      <th>...</th>\n",
              "      <th>SEC</th>\n",
              "      <th>SSBSECT_VOICE_AVAIL</th>\n",
              "      <th>WL_LIMIT</th>\n",
              "      <th>WL_ENRL</th>\n",
              "      <th>RSRV_IND</th>\n",
              "      <th>RESV_LIMIT</th>\n",
              "      <th>RESV_ENRL</th>\n",
              "      <th>NRESV_LIMIT</th>\n",
              "      <th>NRESV_ENRL</th>\n",
              "      <th>RESV_LIST</th>\n",
              "    </tr>\n",
              "  </thead>\n",
              "  <tbody>\n",
              "    <tr>\n",
              "      <th>0</th>\n",
              "      <td>202505</td>\n",
              "      <td>PC</td>\n",
              "      <td>51722</td>\n",
              "      <td>12</td>\n",
              "      <td>NaN</td>\n",
              "      <td>NaN</td>\n",
              "      <td>7</td>\n",
              "      <td>MATH 0999</td>\n",
              "      <td>SUPPORT FOR COLLEGE ALGEBRA</td>\n",
              "      <td>16</td>\n",
              "      <td>...</td>\n",
              "      <td>A</td>\n",
              "      <td>Y</td>\n",
              "      <td>0</td>\n",
              "      <td>0</td>\n",
              "      <td>NaN</td>\n",
              "      <td>NaN</td>\n",
              "      <td>NaN</td>\n",
              "      <td>NaN</td>\n",
              "      <td>NaN</td>\n",
              "      <td>NaN</td>\n",
              "    </tr>\n",
              "    <tr>\n",
              "      <th>1</th>\n",
              "      <td>202505</td>\n",
              "      <td>PC</td>\n",
              "      <td>53481</td>\n",
              "      <td>12</td>\n",
              "      <td>NaN</td>\n",
              "      <td>NaN</td>\n",
              "      <td>7</td>\n",
              "      <td>MATH 0999</td>\n",
              "      <td>SUPPORT FOR COLLEGE ALGEBRA</td>\n",
              "      <td>20</td>\n",
              "      <td>...</td>\n",
              "      <td>A</td>\n",
              "      <td>Y</td>\n",
              "      <td>0</td>\n",
              "      <td>0</td>\n",
              "      <td>NaN</td>\n",
              "      <td>NaN</td>\n",
              "      <td>NaN</td>\n",
              "      <td>NaN</td>\n",
              "      <td>NaN</td>\n",
              "      <td>NaN</td>\n",
              "    </tr>\n",
              "    <tr>\n",
              "      <th>2</th>\n",
              "      <td>202505</td>\n",
              "      <td>PC</td>\n",
              "      <td>53358</td>\n",
              "      <td>12</td>\n",
              "      <td>NaN</td>\n",
              "      <td>NaN</td>\n",
              "      <td>7</td>\n",
              "      <td>MATH 1111</td>\n",
              "      <td>COLLEGE ALGEBRA</td>\n",
              "      <td>30</td>\n",
              "      <td>...</td>\n",
              "      <td>A</td>\n",
              "      <td>Y</td>\n",
              "      <td>0</td>\n",
              "      <td>0</td>\n",
              "      <td>NaN</td>\n",
              "      <td>NaN</td>\n",
              "      <td>NaN</td>\n",
              "      <td>NaN</td>\n",
              "      <td>NaN</td>\n",
              "      <td>NaN</td>\n",
              "    </tr>\n",
              "  </tbody>\n",
              "</table>\n",
              "<p>3 rows × 45 columns</p>\n",
              "</div>\n",
              "    <div class=\"colab-df-buttons\">\n",
              "\n",
              "  <div class=\"colab-df-container\">\n",
              "    <button class=\"colab-df-convert\" onclick=\"convertToInteractive('df-d8f48b6c-ffae-4b81-845e-ce87e4a9cece')\"\n",
              "            title=\"Convert this dataframe to an interactive table.\"\n",
              "            style=\"display:none;\">\n",
              "\n",
              "  <svg xmlns=\"http://www.w3.org/2000/svg\" height=\"24px\" viewBox=\"0 -960 960 960\">\n",
              "    <path d=\"M120-120v-720h720v720H120Zm60-500h600v-160H180v160Zm220 220h160v-160H400v160Zm0 220h160v-160H400v160ZM180-400h160v-160H180v160Zm440 0h160v-160H620v160ZM180-180h160v-160H180v160Zm440 0h160v-160H620v160Z\"/>\n",
              "  </svg>\n",
              "    </button>\n",
              "\n",
              "  <style>\n",
              "    .colab-df-container {\n",
              "      display:flex;\n",
              "      gap: 12px;\n",
              "    }\n",
              "\n",
              "    .colab-df-convert {\n",
              "      background-color: #E8F0FE;\n",
              "      border: none;\n",
              "      border-radius: 50%;\n",
              "      cursor: pointer;\n",
              "      display: none;\n",
              "      fill: #1967D2;\n",
              "      height: 32px;\n",
              "      padding: 0 0 0 0;\n",
              "      width: 32px;\n",
              "    }\n",
              "\n",
              "    .colab-df-convert:hover {\n",
              "      background-color: #E2EBFA;\n",
              "      box-shadow: 0px 1px 2px rgba(60, 64, 67, 0.3), 0px 1px 3px 1px rgba(60, 64, 67, 0.15);\n",
              "      fill: #174EA6;\n",
              "    }\n",
              "\n",
              "    .colab-df-buttons div {\n",
              "      margin-bottom: 4px;\n",
              "    }\n",
              "\n",
              "    [theme=dark] .colab-df-convert {\n",
              "      background-color: #3B4455;\n",
              "      fill: #D2E3FC;\n",
              "    }\n",
              "\n",
              "    [theme=dark] .colab-df-convert:hover {\n",
              "      background-color: #434B5C;\n",
              "      box-shadow: 0px 1px 3px 1px rgba(0, 0, 0, 0.15);\n",
              "      filter: drop-shadow(0px 1px 2px rgba(0, 0, 0, 0.3));\n",
              "      fill: #FFFFFF;\n",
              "    }\n",
              "  </style>\n",
              "\n",
              "    <script>\n",
              "      const buttonEl =\n",
              "        document.querySelector('#df-d8f48b6c-ffae-4b81-845e-ce87e4a9cece button.colab-df-convert');\n",
              "      buttonEl.style.display =\n",
              "        google.colab.kernel.accessAllowed ? 'block' : 'none';\n",
              "\n",
              "      async function convertToInteractive(key) {\n",
              "        const element = document.querySelector('#df-d8f48b6c-ffae-4b81-845e-ce87e4a9cece');\n",
              "        const dataTable =\n",
              "          await google.colab.kernel.invokeFunction('convertToInteractive',\n",
              "                                                    [key], {});\n",
              "        if (!dataTable) return;\n",
              "\n",
              "        const docLinkHtml = 'Like what you see? Visit the ' +\n",
              "          '<a target=\"_blank\" href=https://colab.research.google.com/notebooks/data_table.ipynb>data table notebook</a>'\n",
              "          + ' to learn more about interactive tables.';\n",
              "        element.innerHTML = '';\n",
              "        dataTable['output_type'] = 'display_data';\n",
              "        await google.colab.output.renderOutput(dataTable, element);\n",
              "        const docLink = document.createElement('div');\n",
              "        docLink.innerHTML = docLinkHtml;\n",
              "        element.appendChild(docLink);\n",
              "      }\n",
              "    </script>\n",
              "  </div>\n",
              "\n",
              "\n",
              "    <div id=\"df-3fd1905f-c20a-4add-b751-48637dff2e35\">\n",
              "      <button class=\"colab-df-quickchart\" onclick=\"quickchart('df-3fd1905f-c20a-4add-b751-48637dff2e35')\"\n",
              "                title=\"Suggest charts\"\n",
              "                style=\"display:none;\">\n",
              "\n",
              "<svg xmlns=\"http://www.w3.org/2000/svg\" height=\"24px\"viewBox=\"0 0 24 24\"\n",
              "     width=\"24px\">\n",
              "    <g>\n",
              "        <path d=\"M19 3H5c-1.1 0-2 .9-2 2v14c0 1.1.9 2 2 2h14c1.1 0 2-.9 2-2V5c0-1.1-.9-2-2-2zM9 17H7v-7h2v7zm4 0h-2V7h2v10zm4 0h-2v-4h2v4z\"/>\n",
              "    </g>\n",
              "</svg>\n",
              "      </button>\n",
              "\n",
              "<style>\n",
              "  .colab-df-quickchart {\n",
              "      --bg-color: #E8F0FE;\n",
              "      --fill-color: #1967D2;\n",
              "      --hover-bg-color: #E2EBFA;\n",
              "      --hover-fill-color: #174EA6;\n",
              "      --disabled-fill-color: #AAA;\n",
              "      --disabled-bg-color: #DDD;\n",
              "  }\n",
              "\n",
              "  [theme=dark] .colab-df-quickchart {\n",
              "      --bg-color: #3B4455;\n",
              "      --fill-color: #D2E3FC;\n",
              "      --hover-bg-color: #434B5C;\n",
              "      --hover-fill-color: #FFFFFF;\n",
              "      --disabled-bg-color: #3B4455;\n",
              "      --disabled-fill-color: #666;\n",
              "  }\n",
              "\n",
              "  .colab-df-quickchart {\n",
              "    background-color: var(--bg-color);\n",
              "    border: none;\n",
              "    border-radius: 50%;\n",
              "    cursor: pointer;\n",
              "    display: none;\n",
              "    fill: var(--fill-color);\n",
              "    height: 32px;\n",
              "    padding: 0;\n",
              "    width: 32px;\n",
              "  }\n",
              "\n",
              "  .colab-df-quickchart:hover {\n",
              "    background-color: var(--hover-bg-color);\n",
              "    box-shadow: 0 1px 2px rgba(60, 64, 67, 0.3), 0 1px 3px 1px rgba(60, 64, 67, 0.15);\n",
              "    fill: var(--button-hover-fill-color);\n",
              "  }\n",
              "\n",
              "  .colab-df-quickchart-complete:disabled,\n",
              "  .colab-df-quickchart-complete:disabled:hover {\n",
              "    background-color: var(--disabled-bg-color);\n",
              "    fill: var(--disabled-fill-color);\n",
              "    box-shadow: none;\n",
              "  }\n",
              "\n",
              "  .colab-df-spinner {\n",
              "    border: 2px solid var(--fill-color);\n",
              "    border-color: transparent;\n",
              "    border-bottom-color: var(--fill-color);\n",
              "    animation:\n",
              "      spin 1s steps(1) infinite;\n",
              "  }\n",
              "\n",
              "  @keyframes spin {\n",
              "    0% {\n",
              "      border-color: transparent;\n",
              "      border-bottom-color: var(--fill-color);\n",
              "      border-left-color: var(--fill-color);\n",
              "    }\n",
              "    20% {\n",
              "      border-color: transparent;\n",
              "      border-left-color: var(--fill-color);\n",
              "      border-top-color: var(--fill-color);\n",
              "    }\n",
              "    30% {\n",
              "      border-color: transparent;\n",
              "      border-left-color: var(--fill-color);\n",
              "      border-top-color: var(--fill-color);\n",
              "      border-right-color: var(--fill-color);\n",
              "    }\n",
              "    40% {\n",
              "      border-color: transparent;\n",
              "      border-right-color: var(--fill-color);\n",
              "      border-top-color: var(--fill-color);\n",
              "    }\n",
              "    60% {\n",
              "      border-color: transparent;\n",
              "      border-right-color: var(--fill-color);\n",
              "    }\n",
              "    80% {\n",
              "      border-color: transparent;\n",
              "      border-right-color: var(--fill-color);\n",
              "      border-bottom-color: var(--fill-color);\n",
              "    }\n",
              "    90% {\n",
              "      border-color: transparent;\n",
              "      border-bottom-color: var(--fill-color);\n",
              "    }\n",
              "  }\n",
              "</style>\n",
              "\n",
              "      <script>\n",
              "        async function quickchart(key) {\n",
              "          const quickchartButtonEl =\n",
              "            document.querySelector('#' + key + ' button');\n",
              "          quickchartButtonEl.disabled = true;  // To prevent multiple clicks.\n",
              "          quickchartButtonEl.classList.add('colab-df-spinner');\n",
              "          try {\n",
              "            const charts = await google.colab.kernel.invokeFunction(\n",
              "                'suggestCharts', [key], {});\n",
              "          } catch (error) {\n",
              "            console.error('Error during call to suggestCharts:', error);\n",
              "          }\n",
              "          quickchartButtonEl.classList.remove('colab-df-spinner');\n",
              "          quickchartButtonEl.classList.add('colab-df-quickchart-complete');\n",
              "        }\n",
              "        (() => {\n",
              "          let quickchartButtonEl =\n",
              "            document.querySelector('#df-3fd1905f-c20a-4add-b751-48637dff2e35 button');\n",
              "          quickchartButtonEl.style.display =\n",
              "            google.colab.kernel.accessAllowed ? 'block' : 'none';\n",
              "        })();\n",
              "      </script>\n",
              "    </div>\n",
              "\n",
              "    </div>\n",
              "  </div>\n"
            ],
            "application/vnd.google.colaboratory.intrinsic+json": {
              "type": "dataframe",
              "variable_name": "schedule_df"
            }
          },
          "metadata": {},
          "execution_count": 137
        }
      ]
    },
    {
      "cell_type": "code",
      "source": [
        "email_df.head(3)"
      ],
      "metadata": {
        "colab": {
          "base_uri": "https://localhost:8080/",
          "height": 144
        },
        "id": "-Co7Qo8PNgw4",
        "outputId": "3116efd2-d740-435e-b06c-8c9ba021f360"
      },
      "execution_count": 138,
      "outputs": [
        {
          "output_type": "execute_result",
          "data": {
            "text/plain": [
              "               Name                   Email\n",
              "0  01 Lovelace, Ada  alovelace3@example.edu\n",
              "1  01 White, Walter     wwhite9@example.edu\n",
              "2   01 Doom, Victor      vdoom3@example.edu"
            ],
            "text/html": [
              "\n",
              "  <div id=\"df-d0f911fc-542b-4c3d-9598-24f488e56724\" class=\"colab-df-container\">\n",
              "    <div>\n",
              "<style scoped>\n",
              "    .dataframe tbody tr th:only-of-type {\n",
              "        vertical-align: middle;\n",
              "    }\n",
              "\n",
              "    .dataframe tbody tr th {\n",
              "        vertical-align: top;\n",
              "    }\n",
              "\n",
              "    .dataframe thead th {\n",
              "        text-align: right;\n",
              "    }\n",
              "</style>\n",
              "<table border=\"1\" class=\"dataframe\">\n",
              "  <thead>\n",
              "    <tr style=\"text-align: right;\">\n",
              "      <th></th>\n",
              "      <th>Name</th>\n",
              "      <th>Email</th>\n",
              "    </tr>\n",
              "  </thead>\n",
              "  <tbody>\n",
              "    <tr>\n",
              "      <th>0</th>\n",
              "      <td>01 Lovelace, Ada</td>\n",
              "      <td>alovelace3@example.edu</td>\n",
              "    </tr>\n",
              "    <tr>\n",
              "      <th>1</th>\n",
              "      <td>01 White, Walter</td>\n",
              "      <td>wwhite9@example.edu</td>\n",
              "    </tr>\n",
              "    <tr>\n",
              "      <th>2</th>\n",
              "      <td>01 Doom, Victor</td>\n",
              "      <td>vdoom3@example.edu</td>\n",
              "    </tr>\n",
              "  </tbody>\n",
              "</table>\n",
              "</div>\n",
              "    <div class=\"colab-df-buttons\">\n",
              "\n",
              "  <div class=\"colab-df-container\">\n",
              "    <button class=\"colab-df-convert\" onclick=\"convertToInteractive('df-d0f911fc-542b-4c3d-9598-24f488e56724')\"\n",
              "            title=\"Convert this dataframe to an interactive table.\"\n",
              "            style=\"display:none;\">\n",
              "\n",
              "  <svg xmlns=\"http://www.w3.org/2000/svg\" height=\"24px\" viewBox=\"0 -960 960 960\">\n",
              "    <path d=\"M120-120v-720h720v720H120Zm60-500h600v-160H180v160Zm220 220h160v-160H400v160Zm0 220h160v-160H400v160ZM180-400h160v-160H180v160Zm440 0h160v-160H620v160ZM180-180h160v-160H180v160Zm440 0h160v-160H620v160Z\"/>\n",
              "  </svg>\n",
              "    </button>\n",
              "\n",
              "  <style>\n",
              "    .colab-df-container {\n",
              "      display:flex;\n",
              "      gap: 12px;\n",
              "    }\n",
              "\n",
              "    .colab-df-convert {\n",
              "      background-color: #E8F0FE;\n",
              "      border: none;\n",
              "      border-radius: 50%;\n",
              "      cursor: pointer;\n",
              "      display: none;\n",
              "      fill: #1967D2;\n",
              "      height: 32px;\n",
              "      padding: 0 0 0 0;\n",
              "      width: 32px;\n",
              "    }\n",
              "\n",
              "    .colab-df-convert:hover {\n",
              "      background-color: #E2EBFA;\n",
              "      box-shadow: 0px 1px 2px rgba(60, 64, 67, 0.3), 0px 1px 3px 1px rgba(60, 64, 67, 0.15);\n",
              "      fill: #174EA6;\n",
              "    }\n",
              "\n",
              "    .colab-df-buttons div {\n",
              "      margin-bottom: 4px;\n",
              "    }\n",
              "\n",
              "    [theme=dark] .colab-df-convert {\n",
              "      background-color: #3B4455;\n",
              "      fill: #D2E3FC;\n",
              "    }\n",
              "\n",
              "    [theme=dark] .colab-df-convert:hover {\n",
              "      background-color: #434B5C;\n",
              "      box-shadow: 0px 1px 3px 1px rgba(0, 0, 0, 0.15);\n",
              "      filter: drop-shadow(0px 1px 2px rgba(0, 0, 0, 0.3));\n",
              "      fill: #FFFFFF;\n",
              "    }\n",
              "  </style>\n",
              "\n",
              "    <script>\n",
              "      const buttonEl =\n",
              "        document.querySelector('#df-d0f911fc-542b-4c3d-9598-24f488e56724 button.colab-df-convert');\n",
              "      buttonEl.style.display =\n",
              "        google.colab.kernel.accessAllowed ? 'block' : 'none';\n",
              "\n",
              "      async function convertToInteractive(key) {\n",
              "        const element = document.querySelector('#df-d0f911fc-542b-4c3d-9598-24f488e56724');\n",
              "        const dataTable =\n",
              "          await google.colab.kernel.invokeFunction('convertToInteractive',\n",
              "                                                    [key], {});\n",
              "        if (!dataTable) return;\n",
              "\n",
              "        const docLinkHtml = 'Like what you see? Visit the ' +\n",
              "          '<a target=\"_blank\" href=https://colab.research.google.com/notebooks/data_table.ipynb>data table notebook</a>'\n",
              "          + ' to learn more about interactive tables.';\n",
              "        element.innerHTML = '';\n",
              "        dataTable['output_type'] = 'display_data';\n",
              "        await google.colab.output.renderOutput(dataTable, element);\n",
              "        const docLink = document.createElement('div');\n",
              "        docLink.innerHTML = docLinkHtml;\n",
              "        element.appendChild(docLink);\n",
              "      }\n",
              "    </script>\n",
              "  </div>\n",
              "\n",
              "\n",
              "    <div id=\"df-7edd2fab-946c-4bc9-9c91-7e872b08276d\">\n",
              "      <button class=\"colab-df-quickchart\" onclick=\"quickchart('df-7edd2fab-946c-4bc9-9c91-7e872b08276d')\"\n",
              "                title=\"Suggest charts\"\n",
              "                style=\"display:none;\">\n",
              "\n",
              "<svg xmlns=\"http://www.w3.org/2000/svg\" height=\"24px\"viewBox=\"0 0 24 24\"\n",
              "     width=\"24px\">\n",
              "    <g>\n",
              "        <path d=\"M19 3H5c-1.1 0-2 .9-2 2v14c0 1.1.9 2 2 2h14c1.1 0 2-.9 2-2V5c0-1.1-.9-2-2-2zM9 17H7v-7h2v7zm4 0h-2V7h2v10zm4 0h-2v-4h2v4z\"/>\n",
              "    </g>\n",
              "</svg>\n",
              "      </button>\n",
              "\n",
              "<style>\n",
              "  .colab-df-quickchart {\n",
              "      --bg-color: #E8F0FE;\n",
              "      --fill-color: #1967D2;\n",
              "      --hover-bg-color: #E2EBFA;\n",
              "      --hover-fill-color: #174EA6;\n",
              "      --disabled-fill-color: #AAA;\n",
              "      --disabled-bg-color: #DDD;\n",
              "  }\n",
              "\n",
              "  [theme=dark] .colab-df-quickchart {\n",
              "      --bg-color: #3B4455;\n",
              "      --fill-color: #D2E3FC;\n",
              "      --hover-bg-color: #434B5C;\n",
              "      --hover-fill-color: #FFFFFF;\n",
              "      --disabled-bg-color: #3B4455;\n",
              "      --disabled-fill-color: #666;\n",
              "  }\n",
              "\n",
              "  .colab-df-quickchart {\n",
              "    background-color: var(--bg-color);\n",
              "    border: none;\n",
              "    border-radius: 50%;\n",
              "    cursor: pointer;\n",
              "    display: none;\n",
              "    fill: var(--fill-color);\n",
              "    height: 32px;\n",
              "    padding: 0;\n",
              "    width: 32px;\n",
              "  }\n",
              "\n",
              "  .colab-df-quickchart:hover {\n",
              "    background-color: var(--hover-bg-color);\n",
              "    box-shadow: 0 1px 2px rgba(60, 64, 67, 0.3), 0 1px 3px 1px rgba(60, 64, 67, 0.15);\n",
              "    fill: var(--button-hover-fill-color);\n",
              "  }\n",
              "\n",
              "  .colab-df-quickchart-complete:disabled,\n",
              "  .colab-df-quickchart-complete:disabled:hover {\n",
              "    background-color: var(--disabled-bg-color);\n",
              "    fill: var(--disabled-fill-color);\n",
              "    box-shadow: none;\n",
              "  }\n",
              "\n",
              "  .colab-df-spinner {\n",
              "    border: 2px solid var(--fill-color);\n",
              "    border-color: transparent;\n",
              "    border-bottom-color: var(--fill-color);\n",
              "    animation:\n",
              "      spin 1s steps(1) infinite;\n",
              "  }\n",
              "\n",
              "  @keyframes spin {\n",
              "    0% {\n",
              "      border-color: transparent;\n",
              "      border-bottom-color: var(--fill-color);\n",
              "      border-left-color: var(--fill-color);\n",
              "    }\n",
              "    20% {\n",
              "      border-color: transparent;\n",
              "      border-left-color: var(--fill-color);\n",
              "      border-top-color: var(--fill-color);\n",
              "    }\n",
              "    30% {\n",
              "      border-color: transparent;\n",
              "      border-left-color: var(--fill-color);\n",
              "      border-top-color: var(--fill-color);\n",
              "      border-right-color: var(--fill-color);\n",
              "    }\n",
              "    40% {\n",
              "      border-color: transparent;\n",
              "      border-right-color: var(--fill-color);\n",
              "      border-top-color: var(--fill-color);\n",
              "    }\n",
              "    60% {\n",
              "      border-color: transparent;\n",
              "      border-right-color: var(--fill-color);\n",
              "    }\n",
              "    80% {\n",
              "      border-color: transparent;\n",
              "      border-right-color: var(--fill-color);\n",
              "      border-bottom-color: var(--fill-color);\n",
              "    }\n",
              "    90% {\n",
              "      border-color: transparent;\n",
              "      border-bottom-color: var(--fill-color);\n",
              "    }\n",
              "  }\n",
              "</style>\n",
              "\n",
              "      <script>\n",
              "        async function quickchart(key) {\n",
              "          const quickchartButtonEl =\n",
              "            document.querySelector('#' + key + ' button');\n",
              "          quickchartButtonEl.disabled = true;  // To prevent multiple clicks.\n",
              "          quickchartButtonEl.classList.add('colab-df-spinner');\n",
              "          try {\n",
              "            const charts = await google.colab.kernel.invokeFunction(\n",
              "                'suggestCharts', [key], {});\n",
              "          } catch (error) {\n",
              "            console.error('Error during call to suggestCharts:', error);\n",
              "          }\n",
              "          quickchartButtonEl.classList.remove('colab-df-spinner');\n",
              "          quickchartButtonEl.classList.add('colab-df-quickchart-complete');\n",
              "        }\n",
              "        (() => {\n",
              "          let quickchartButtonEl =\n",
              "            document.querySelector('#df-7edd2fab-946c-4bc9-9c91-7e872b08276d button');\n",
              "          quickchartButtonEl.style.display =\n",
              "            google.colab.kernel.accessAllowed ? 'block' : 'none';\n",
              "        })();\n",
              "      </script>\n",
              "    </div>\n",
              "\n",
              "    </div>\n",
              "  </div>\n"
            ],
            "application/vnd.google.colaboratory.intrinsic+json": {
              "type": "dataframe",
              "variable_name": "email_df",
              "summary": "{\n  \"name\": \"email_df\",\n  \"rows\": 65,\n  \"fields\": [\n    {\n      \"column\": \"Name\",\n      \"properties\": {\n        \"dtype\": \"string\",\n        \"num_unique_values\": 65,\n        \"samples\": [\n          \"01 LeGuin, Ursula\",\n          \"01 Feynman, Richard\",\n          \"01 Lovelace, Ada\"\n        ],\n        \"semantic_type\": \"\",\n        \"description\": \"\"\n      }\n    },\n    {\n      \"column\": \"Email\",\n      \"properties\": {\n        \"dtype\": \"string\",\n        \"num_unique_values\": 65,\n        \"samples\": [\n          \"uleguin4@example.edu\",\n          \"rfeynman9@example.edu\",\n          \"alovelace3@example.edu\"\n        ],\n        \"semantic_type\": \"\",\n        \"description\": \"\"\n      }\n    }\n  ]\n}"
            }
          },
          "metadata": {},
          "execution_count": 138
        }
      ]
    },
    {
      "cell_type": "markdown",
      "source": [
        "## 🧹 Step 4: Clean, Prepare, and Standardize Data"
      ],
      "metadata": {
        "id": "_us0GDrlt-Up"
      }
    },
    {
      "cell_type": "code",
      "metadata": {
        "id": "vmBsdvMK248g"
      },
      "source": [
        "# Clean up column names and instructor entries by stripping extra whitespace\n",
        "schedule_df.columns = schedule_df.columns.str.strip()\n",
        "schedule_df['INSTRUCTOR'] = schedule_df['INSTRUCTOR'].str.strip()"
      ],
      "execution_count": 139,
      "outputs": []
    },
    {
      "cell_type": "code",
      "source": [
        "# Remove numeric prefix (e.g., \"01 \") from instructor names. ex: \"01 Lovelace, Ada\"\n",
        "# This prefix indicates instructor rank or load priority and is an artifact from the scheduling system\n",
        "schedule_df['INSTRUCTOR'] = schedule_df['INSTRUCTOR'].str[3:]\n",
        "email_df['Name'] = email_df['Name'].str[3:]"
      ],
      "metadata": {
        "id": "s0kpWwJWlgAw"
      },
      "execution_count": 140,
      "outputs": []
    },
    {
      "cell_type": "code",
      "metadata": {
        "id": "aTPb44Br248k"
      },
      "source": [
        "#Merge Instructor email addresses to schedule_df\n",
        "merged_df = pd.merge(\n",
        "    schedule_df,\n",
        "    email_df.rename(columns={'Name': 'INSTRUCTOR'}),\n",
        "    on='INSTRUCTOR',\n",
        "    how='left'\n",
        ")"
      ],
      "execution_count": 141,
      "outputs": []
    },
    {
      "cell_type": "code",
      "source": [
        "# Remove unassigned/staffed sections\n",
        "merged_df = merged_df[merged_df['INSTRUCTOR'].str.upper() != 'STAFF']"
      ],
      "metadata": {
        "id": "eXLf2PE5eTA_"
      },
      "execution_count": 142,
      "outputs": []
    },
    {
      "cell_type": "code",
      "source": [
        "# Assign Campus Names by Campus Codes\n",
        "merged_df['Campus_Name'] = merged_df['CAMP'].map(campuses_dict)"
      ],
      "metadata": {
        "id": "Eg0iq9DYZM3K"
      },
      "execution_count": 143,
      "outputs": []
    },
    {
      "cell_type": "markdown",
      "source": [
        "### Identify Support Linked Courses\n",
        "\n",
        "> #### Change Subj_Crsnumb for classes that have a linked co-requisite support\n",
        "> ##### Example: MATH 1111 and Math 0999 become Math 1111_0999\n"
      ],
      "metadata": {
        "id": "iKCSLyaQ1cRr"
      }
    },
    {
      "cell_type": "code",
      "metadata": {
        "id": "BkTey7YjNWct"
      },
      "source": [
        "# Create HAS_SUPPORT flag:\n",
        "# - Must be MATH 1111, 1001, or 1401\n",
        "# - Must contain linked support \"CRN\" in the COMMENTS column\n",
        "\n",
        "merged_df['HAS_SUPPORT'] = (\n",
        "    merged_df['Subj_Crsnumb'].isin(['MATH 1111', 'MATH 1001', 'MATH 1401']) &\n",
        "    merged_df['COMMENTS'].str.upper().str.contains('CRN', na=False)\n",
        ").astype(int)"
      ],
      "execution_count": 144,
      "outputs": []
    },
    {
      "cell_type": "code",
      "source": [
        "# If support is present, relabel main course as a paired course\n",
        "merged_df.loc[\n",
        "    (merged_df['HAS_SUPPORT'] == 1) & (merged_df['Subj_Crsnumb'] == 'MATH 1111'),\n",
        "    'Subj_Crsnumb'\n",
        "] = 'MATH 1111_0999'\n",
        "\n",
        "merged_df.loc[\n",
        "    (merged_df['HAS_SUPPORT'] == 1) & (merged_df['Subj_Crsnumb'] == 'MATH 1001'),\n",
        "    'Subj_Crsnumb'\n",
        "] = 'MATH 1001_0997'\n",
        "\n",
        "merged_df.loc[\n",
        "    (merged_df['HAS_SUPPORT'] == 1) & (merged_df['Subj_Crsnumb'] == 'MATH 1401'),\n",
        "    'Subj_Crsnumb'\n",
        "] = 'MATH 1401_0996'\n"
      ],
      "metadata": {
        "id": "RsRoANjoRyur"
      },
      "execution_count": 145,
      "outputs": []
    },
    {
      "cell_type": "code",
      "source": [
        "# Drop standalone support course sections listings after they've been linked\n",
        "support_only_courses = ['MATH 0999', 'MATH 0997', 'MATH 0996']\n",
        "merged_df = merged_df[~merged_df['Subj_Crsnumb'].isin(support_only_courses)]"
      ],
      "metadata": {
        "id": "mUSYc62Iht9t"
      },
      "execution_count": 146,
      "outputs": []
    },
    {
      "cell_type": "markdown",
      "source": [
        "### Extract D2L Usernames from emails\n",
        "\n",
        "> #### alovelace2@example.edu -> alovelace2\n",
        "\n"
      ],
      "metadata": {
        "id": "PqastiP8PkIJ"
      }
    },
    {
      "cell_type": "code",
      "source": [
        "merged_df['Username'] = merged_df['Email'].str.split('@').str[0]"
      ],
      "metadata": {
        "id": "vmlO40g0MgIb",
        "colab": {
          "base_uri": "https://localhost:8080/"
        },
        "outputId": "364ca31c-926d-4739-d7ff-e63a2a86ac11"
      },
      "execution_count": 147,
      "outputs": [
        {
          "output_type": "stream",
          "name": "stderr",
          "text": [
            "<ipython-input-147-beaf7e85e0b7>:1: SettingWithCopyWarning: \n",
            "A value is trying to be set on a copy of a slice from a DataFrame.\n",
            "Try using .loc[row_indexer,col_indexer] = value instead\n",
            "\n",
            "See the caveats in the documentation: https://pandas.pydata.org/pandas-docs/stable/user_guide/indexing.html#returning-a-view-versus-a-copy\n",
            "  merged_df['Username'] = merged_df['Email'].str.split('@').str[0]\n"
          ]
        }
      ]
    },
    {
      "cell_type": "markdown",
      "source": [
        "### Assign D2L role for course templates: *Template User or TA Designer*"
      ],
      "metadata": {
        "id": "PDvu6e4__xsk"
      }
    },
    {
      "cell_type": "code",
      "source": [
        "# Define courses that require 'Template User' role\n",
        "template_courses = ['MATH 1111', 'MATH 1111_0999', 'MATH 1401', 'MATH 1401_0996']\n",
        "\n",
        "# Assign roles based on course\n",
        "merged_df['Role'] = merged_df['Subj_Crsnumb'].apply(\n",
        "    lambda x: 'Template User' if x in template_courses else 'TA Designer'\n",
        ")\n"
      ],
      "metadata": {
        "id": "LbSLgFpO_q2M",
        "colab": {
          "base_uri": "https://localhost:8080/"
        },
        "outputId": "b416bff1-9008-4360-ae6f-93d4af8fcac3"
      },
      "execution_count": 148,
      "outputs": [
        {
          "output_type": "stream",
          "name": "stderr",
          "text": [
            "<ipython-input-148-7a8bae8ca2f0>:5: SettingWithCopyWarning: \n",
            "A value is trying to be set on a copy of a slice from a DataFrame.\n",
            "Try using .loc[row_indexer,col_indexer] = value instead\n",
            "\n",
            "See the caveats in the documentation: https://pandas.pydata.org/pandas-docs/stable/user_guide/indexing.html#returning-a-view-versus-a-copy\n",
            "  merged_df['Role'] = merged_df['Subj_Crsnumb'].apply(\n"
          ]
        }
      ]
    },
    {
      "cell_type": "markdown",
      "source": [
        "### Prepare df to start creating Excel Report and D2L Faculty Roster files for upload"
      ],
      "metadata": {
        "id": "LHRL2v3lKzMz"
      }
    },
    {
      "cell_type": "code",
      "metadata": {
        "id": "3pASc0J5I2gw"
      },
      "source": [
        "keep_columns = ['Subj_Crsnumb', 'CAMP','Campus_Name', 'INSTRUCTOR','FCST_CODE',\n",
        "                'Email', 'HAS_SUPPORT', 'Username', 'Role']"
      ],
      "execution_count": 149,
      "outputs": []
    },
    {
      "cell_type": "code",
      "source": [
        "# Define your preferred course display order\n",
        "course_order = [\n",
        "    'MATH 1001_0997', 'MATH 1001',\n",
        "    'MATH 1111_0999', 'MATH 1111',\n",
        "    'MATH 1401_0996', 'MATH 1401',\n",
        "    'MATH 1113', 'MATH 2211', 'MATH 2212', 'MATH 2215',\n",
        "    'MATH 2008', 'MATH 2420', 'MATH 2551', 'MATH 2641', 'MATH 2652'\n",
        "]\n",
        "\n",
        "# Apply this forced order to the Subj_Crsnumb column\n",
        "merged_df['Subj_Crsnumb'] = pd.Categorical(\n",
        "    merged_df['Subj_Crsnumb'],\n",
        "    categories=course_order,\n",
        "    ordered=True\n",
        ")\n",
        "merged_df = merged_df.sort_values('Subj_Crsnumb')"
      ],
      "metadata": {
        "id": "oliwP1ulipRr",
        "colab": {
          "base_uri": "https://localhost:8080/"
        },
        "outputId": "a4a30333-ef39-4563-a75b-5525eb030c30"
      },
      "execution_count": 150,
      "outputs": [
        {
          "output_type": "stream",
          "name": "stderr",
          "text": [
            "<ipython-input-150-cc9f7ef53325>:11: SettingWithCopyWarning: \n",
            "A value is trying to be set on a copy of a slice from a DataFrame.\n",
            "Try using .loc[row_indexer,col_indexer] = value instead\n",
            "\n",
            "See the caveats in the documentation: https://pandas.pydata.org/pandas-docs/stable/user_guide/indexing.html#returning-a-view-versus-a-copy\n",
            "  merged_df['Subj_Crsnumb'] = pd.Categorical(\n"
          ]
        }
      ]
    },
    {
      "cell_type": "code",
      "metadata": {
        "id": "5rq6XabN248o"
      },
      "source": [
        "prepped_df = merged_df[keep_columns]"
      ],
      "execution_count": 151,
      "outputs": []
    },
    {
      "cell_type": "markdown",
      "metadata": {
        "id": "92RfRfiMbNU9"
      },
      "source": [
        "## 📊 Step 5: Create Excel Report"
      ]
    },
    {
      "cell_type": "markdown",
      "metadata": {
        "id": "4KoXMs_AoN0D"
      },
      "source": [
        "#### Create filename for report with timestamp"
      ]
    },
    {
      "cell_type": "code",
      "metadata": {
        "colab": {
          "base_uri": "https://localhost:8080/"
        },
        "id": "YmG7XT2Ej6Oj",
        "outputId": "09fd3d0b-55a9-4029-9e32-447867802aad"
      },
      "source": [
        "eastern = timezone('US/Eastern')\n",
        "dateTimeObj = datetime.now(eastern)\n",
        "datestamp = dateTimeObj.strftime(\"%Y_%b_%d\") #_%I_%M%p\") hours and minutes\n",
        "report_name = \"List_of_Instructors_by_Course_\" + datestamp + \".xlsx\"\n",
        "print(report_name)"
      ],
      "execution_count": 152,
      "outputs": [
        {
          "output_type": "stream",
          "name": "stdout",
          "text": [
            "List_of_Instructors_by_Course_2025_May_20.xlsx\n"
          ]
        }
      ]
    },
    {
      "cell_type": "code",
      "metadata": {
        "id": "cPl-7YasbNMj"
      },
      "source": [
        "# Create writer object\n",
        "writer = pd.ExcelWriter(report_name, engine='xlsxwriter')"
      ],
      "execution_count": 153,
      "outputs": []
    },
    {
      "cell_type": "code",
      "metadata": {
        "id": "qxnUsdx0bNCp"
      },
      "source": [
        "# book object to format\n",
        "workbook = writer.book"
      ],
      "execution_count": 154,
      "outputs": []
    },
    {
      "cell_type": "markdown",
      "metadata": {
        "id": "hhAd0NBX7_0o"
      },
      "source": [
        "### List of Instructors by Campus"
      ]
    },
    {
      "cell_type": "code",
      "metadata": {
        "id": "LhZXXj957_p5"
      },
      "source": [
        "start_col = 0\n",
        "start_row = 0\n",
        "max_length = 0\n",
        "sheetname = 'By Campus'\n",
        "col_widths = {}\n",
        "\n",
        "for campus in campuses:\n",
        "    # Filter for current campus\n",
        "    filtered = merged_df[merged_df['CAMP'] == campus]\n",
        "\n",
        "    # Select relevant columns and sort\n",
        "    temp_list = (\n",
        "        filtered[['Campus_Name', 'INSTRUCTOR', 'FCST_CODE', 'Email']]\n",
        "        .drop_duplicates()\n",
        "        .sort_values('FCST_CODE')\n",
        "    )\n",
        "\n",
        "    if len(temp_list) > max_length:\n",
        "        max_length = len(temp_list)\n",
        "\n",
        "    # Write to Excel\n",
        "    temp_list.to_excel(\n",
        "        excel_writer=writer,\n",
        "        sheet_name=sheetname,\n",
        "        startrow=start_row,\n",
        "        startcol=start_col,\n",
        "        index=False\n",
        "    )\n",
        "\n",
        "    # Track max column widths across all blocks\n",
        "    for idx, col in enumerate(temp_list.columns):\n",
        "        col_values = temp_list[col].astype(str).tolist() + [col]\n",
        "        max_len = max(map(len, col_values))\n",
        "        col_idx = start_col + idx\n",
        "        if col_idx not in col_widths or max_len > col_widths[col_idx]:\n",
        "            col_widths[col_idx] = max_len\n",
        "\n",
        "    # Advance to the next row block\n",
        "    start_row += max_length + 3\n",
        "\n",
        "    # If we overflow downward, shift to next column\n",
        "    if start_row >= 30:\n",
        "        start_row = 0\n",
        "        max_length = 0\n",
        "        start_col += len(temp_list.columns) + 1\n",
        "\n",
        "# Apply final autosizing across all used columns\n",
        "worksheet = writer.sheets[sheetname]\n",
        "for col_idx, width in col_widths.items():\n",
        "    worksheet.set_column(col_idx, col_idx, width + 2)\n"
      ],
      "execution_count": 155,
      "outputs": []
    },
    {
      "cell_type": "markdown",
      "metadata": {
        "id": "utFhGQSkamjT"
      },
      "source": [
        "### Create List of instructors per course per campus"
      ]
    },
    {
      "cell_type": "code",
      "source": [
        "# Loop through each campus and subject to export instructor lists\n",
        "for campus in campuses:\n",
        "    start_col = 0\n",
        "    start_row = 0\n",
        "    max_length = 0\n",
        "    col_widths = {}\n",
        "    sheetname = campuses_dict[campus]\n",
        "\n",
        "    # Filter by campus\n",
        "    filtered = merged_df[merged_df['CAMP'] == campus]\n",
        "\n",
        "    # Get list of unique subjects at this campus\n",
        "    subjects_list = filtered['Subj_Crsnumb'].drop_duplicates().tolist()\n",
        "\n",
        "    for subject in subjects_list:\n",
        "        # Filter for this subject at this campus\n",
        "        subject_df = filtered[filtered['Subj_Crsnumb'] == subject]\n",
        "\n",
        "        # Select and deduplicate columns\n",
        "        temp_list = subject_df[['Subj_Crsnumb', 'INSTRUCTOR', 'Email', 'Username']].drop_duplicates()\n",
        "\n",
        "        if len(temp_list) > max_length:\n",
        "            max_length = len(temp_list)\n",
        "\n",
        "        # Write to Excel\n",
        "        temp_list.to_excel(\n",
        "            excel_writer=writer,\n",
        "            sheet_name=sheetname,\n",
        "            startrow=start_row,\n",
        "            startcol=start_col,\n",
        "            index=False\n",
        "        )\n",
        "\n",
        "        # Track max width for each column index across all blocks\n",
        "        for idx, col in enumerate(temp_list.columns):\n",
        "            col_values = temp_list[col].astype(str).tolist() + [col]\n",
        "            max_len = max(map(len, col_values))\n",
        "            col_idx = start_col + idx\n",
        "            if col_idx not in col_widths or max_len > col_widths[col_idx]:\n",
        "                col_widths[col_idx] = max_len\n",
        "\n",
        "\n",
        "        # Advance the column block\n",
        "        start_col += len(temp_list.columns) + 1\n",
        "\n",
        "        # Line wrap if needed\n",
        "        if start_col >= 15:\n",
        "            start_row += max_length + 3\n",
        "            start_col = 0\n",
        "            max_length = 0\n",
        "\n",
        "    # Auto-size columns AFTER all blocks are written\n",
        "    worksheet = writer.sheets[sheetname]\n",
        "    for col_idx, width in col_widths.items():\n",
        "        worksheet.set_column(col_idx, col_idx, width + 2)"
      ],
      "metadata": {
        "id": "j-zWNKMr_lio"
      },
      "execution_count": 156,
      "outputs": []
    },
    {
      "cell_type": "markdown",
      "metadata": {
        "id": "2NFyb6W1262i"
      },
      "source": [
        "### Create Excel Sheets of Instructors by course (College-wide)"
      ]
    },
    {
      "cell_type": "code",
      "metadata": {
        "id": "Tr3VGMtr1ZEi",
        "colab": {
          "base_uri": "https://localhost:8080/"
        },
        "outputId": "bbe22d43-a298-4771-e9ca-afc83355e402"
      },
      "source": [
        "subjects_list = merged_df['Subj_Crsnumb'].drop_duplicates().tolist()\n",
        "print(subjects_list)\n",
        "\n",
        "for subject in subjects_list:\n",
        "    sheetname = subject\n",
        "\n",
        "    # Filter by subject\n",
        "    filtered_df = merged_df[merged_df['Subj_Crsnumb'] == subject]\n",
        "\n",
        "    # Select relevant columns and remove duplicates\n",
        "    temp_list = filtered_df[['Subj_Crsnumb', 'INSTRUCTOR', 'Email', 'Username']].drop_duplicates()\n",
        "\n",
        "    # Write to Excel\n",
        "    temp_list.to_excel(\n",
        "        excel_writer=writer,\n",
        "        sheet_name=sheetname,\n",
        "        index=False\n",
        "    )\n",
        "\n",
        "    # Auto-size columns\n",
        "    worksheet = writer.sheets[sheetname]\n",
        "    for idx, col in enumerate(temp_list.columns):\n",
        "        column_len = max(\n",
        "            temp_list[col].astype(str).map(len).max(),\n",
        "            len(col)\n",
        "        ) + 2\n",
        "        worksheet.set_column(idx, idx, column_len)\n"
      ],
      "execution_count": 157,
      "outputs": [
        {
          "output_type": "stream",
          "name": "stdout",
          "text": [
            "['MATH 1001_0997', 'MATH 1001', 'MATH 1111_0999', 'MATH 1111', 'MATH 1401_0996', 'MATH 1401', 'MATH 1113', 'MATH 2211', 'MATH 2212', 'MATH 2215', 'MATH 2008', 'MATH 2420', 'MATH 2551', 'MATH 2641', 'MATH 2652']\n"
          ]
        }
      ]
    },
    {
      "cell_type": "code",
      "metadata": {
        "id": "NWAzucdS7NfF"
      },
      "source": [
        "writer.close()"
      ],
      "execution_count": 158,
      "outputs": []
    },
    {
      "cell_type": "markdown",
      "source": [
        "##  📨 Step 6: Create course roster txt files of instructors for D2L upload into course templates"
      ],
      "metadata": {
        "id": "-1x4XqkSsZFh"
      }
    },
    {
      "cell_type": "code",
      "source": [
        "subjects_list = merged_df['Subj_Crsnumb'].drop_duplicates().tolist()\n",
        "\n",
        "for subject in subjects_list:\n",
        "    # Filter rows for this subject (Staff already removed)\n",
        "    filtered = merged_df[merged_df['Subj_Crsnumb'] == subject]\n",
        "\n",
        "    # Get unique Username and Role pairs\n",
        "    temp_list = filtered[['Username', 'Role']].drop_duplicates()\n",
        "\n",
        "    # Create \"Username, Role\" strings\n",
        "    roster_list = temp_list.apply(lambda row: f\"{row['Username']}, {row['Role']}\", axis=1).tolist()\n",
        "\n",
        "    # Write to file\n",
        "    import_roster = f\"{subject} D2L instructor roster.txt\"\n",
        "    with open(import_roster, 'w') as f:\n",
        "        f.write(\"\\n\".join(roster_list))"
      ],
      "metadata": {
        "id": "vsvAz9LQseDC"
      },
      "execution_count": 159,
      "outputs": []
    }
  ]
}